{
  "nbformat": 4,
  "nbformat_minor": 0,
  "metadata": {
    "colab": {
      "name": "Python Beginner.ipynb",
      "provenance": [],
      "collapsed_sections": []
    },
    "kernelspec": {
      "name": "python3",
      "display_name": "Python 3"
    }
  },
  "cells": [
    {
      "cell_type": "markdown",
      "metadata": {
        "id": "QIaxrM3j2qlx"
      },
      "source": [
        "**Fibonacci Generator**"
      ]
    },
    {
      "cell_type": "code",
      "metadata": {
        "id": "kgyJ5_po2oAq",
        "colab": {
          "base_uri": "https://localhost:8080/"
        },
        "outputId": "6e574e89-5ec9-459e-a961-1e51e41bea51"
      },
      "source": [
        "def fibonacci(n):\r\n",
        "  \"\"\" \r\n",
        "  Output: Returns the next element of fibonacci series\r\n",
        "  Input: integer n \r\n",
        "  \"\"\"\r\n",
        "  if n==0:\r\n",
        "    return 1\r\n",
        "  elif n==1:\r\n",
        "    return 1\r\n",
        "  elif n>1:\r\n",
        "    return (fibonacci(n-1) + fibonacci(n-2))\r\n",
        "\r\n",
        "def generate_fibonacci(count: int=0):\r\n",
        "  \"\"\" \r\n",
        "  Output: Prints the fibonacci series\r\n",
        "  Input: integer n as count \r\n",
        "  \"\"\"\r\n",
        "  for item in range(0,count):\r\n",
        "    print(fibonacci(item))\r\n",
        "\r\n",
        "print('Enter the number of fibonacci numbers, you want us to print:')\r\n",
        "count = int(input())\r\n",
        "print('\\n\\n')\r\n",
        "generate_fibonacci(count)"
      ],
      "execution_count": 1,
      "outputs": [
        {
          "output_type": "stream",
          "text": [
            "Enter the number of fibonacci numbers, you want us to print:\n",
            "4\n",
            "\n",
            "\n",
            "\n",
            "1\n",
            "1\n",
            "2\n",
            "3\n"
          ],
          "name": "stdout"
        }
      ]
    },
    {
      "cell_type": "markdown",
      "metadata": {
        "id": "ckYnmgWh3HcK"
      },
      "source": [
        "**Removing elements in list**\r\n",
        "\r\n",
        "\r\n"
      ]
    },
    {
      "cell_type": "code",
      "metadata": {
        "colab": {
          "base_uri": "https://localhost:8080/"
        },
        "id": "ILYS85j93R3A",
        "outputId": "fbe6a277-023a-43d2-80f3-fcd7ca6617a5"
      },
      "source": [
        "def remove_duplicate(items):\r\n",
        "  \"\"\" \r\n",
        "  Output: Returns List without duplicates\r\n",
        "  Input: List of numbers\r\n",
        "  \"\"\"\r\n",
        "  if (not isinstance(items, list)):\r\n",
        "     raise TypeError(\"Function only accept list as input.\")\r\n",
        "  return list(set(items)) \r\n",
        "  \r\n",
        "print(remove_duplicate(list([1,1,1,2,3,5])))"
      ],
      "execution_count": 2,
      "outputs": [
        {
          "output_type": "stream",
          "text": [
            "[1, 2, 3, 5]\n"
          ],
          "name": "stdout"
        }
      ]
    },
    {
      "cell_type": "markdown",
      "metadata": {
        "id": "JKoFzfLK7Zlr"
      },
      "source": [
        "**Squares of all numeric elements**"
      ]
    },
    {
      "cell_type": "code",
      "metadata": {
        "colab": {
          "base_uri": "https://localhost:8080/"
        },
        "id": "jRdTl-WY7giJ",
        "outputId": "fae7a787-4b0f-49c1-bee2-bc43fe18a61d"
      },
      "source": [
        "def squares_all_elements(list: list):\r\n",
        "  \"\"\"\r\n",
        "  Output: return squares of all numbers in list\r\n",
        "  Input : list \r\n",
        "  \"\"\"\r\n",
        "  return [int(number)**2 for number in list if number.isnumeric() ]\r\n",
        "\r\n",
        "print(\"Enter length of list to create:\")\r\n",
        "length = int(input())\r\n",
        "input_list = list()\r\n",
        "print(\"\\nEnter elements of list:\\n\")\r\n",
        "while length>0:\r\n",
        "  input_list.append(input())\r\n",
        "  length = length-1\r\n",
        "\r\n",
        "print(squares_all_elements(input_list))\r\n"
      ],
      "execution_count": 5,
      "outputs": [
        {
          "output_type": "stream",
          "text": [
            "Enter length of list to create:\n",
            "2\n",
            "\n",
            "Enter elements of list:\n",
            "\n",
            "3\n",
            "5\n",
            "[9, 25]\n"
          ],
          "name": "stdout"
        }
      ]
    },
    {
      "cell_type": "markdown",
      "metadata": {
        "id": "LQuN7AkX-WhI"
      },
      "source": [
        "**Reverse a number**"
      ]
    },
    {
      "cell_type": "code",
      "metadata": {
        "colab": {
          "base_uri": "https://localhost:8080/"
        },
        "id": "SAegbg4u-YrP",
        "outputId": "4f152434-9af5-4448-a06c-b2227b70e466"
      },
      "source": [
        "\r\n",
        "def reverse_number(number):\r\n",
        "  reversed_string = list(reversed(str(number)))\r\n",
        "  new_string=''\r\n",
        "  for char in reversed_string:\r\n",
        "    new_string+= str(char)\r\n",
        "\r\n",
        "  reversed_number = int(new_string)\r\n",
        "\r\n",
        "  return reversed_number\r\n",
        "\r\n",
        "print(\"Enter numberto reverse\")\r\n",
        "number = input()\r\n",
        "print(reverse_number(number))"
      ],
      "execution_count": 19,
      "outputs": [
        {
          "output_type": "stream",
          "text": [
            "Enter numberto reverse\n",
            "12345\n",
            "54321\n"
          ],
          "name": "stdout"
        }
      ]
    },
    {
      "cell_type": "markdown",
      "metadata": {
        "id": "RwY3QtMXx-5n"
      },
      "source": [
        "**sum of primes below N (default 200000)**"
      ]
    },
    {
      "cell_type": "code",
      "metadata": {
        "id": "7_2RXnWxyLV8"
      },
      "source": [
        "# Function to check whether a number is prime or not . \r\n",
        "# n(int): number to check\r\n",
        "# retuns(bool): is number prime or not\r\n",
        "def isPrime(n):       \r\n",
        "    if n <= 1 : \r\n",
        "        return False\r\n",
        "\r\n",
        "    for i in range(2, n): \r\n",
        "        if n % i == 0: \r\n",
        "            return False\r\n",
        "\r\n",
        "    return True\r\n",
        "  \r\n",
        "# Function to sum primes\r\n",
        "# n(int): number below which all primes are added\r\n",
        "# retuns(int): sum of primes\r\n",
        "def sumPrime(n=200000):\r\n",
        "    sum =0 \r\n",
        "    if(n > 0): \r\n",
        "      for i in range(2, n + 1): \r\n",
        "          if isPrime(i): \r\n",
        "              sum+=i\r\n",
        "    return sum\r\n",
        "\r\n",
        "N = int(input())\r\n",
        "print(f'sum of primes below {N} is {sumPrime(N)}')"
      ],
      "execution_count": null,
      "outputs": []
    },
    {
      "cell_type": "markdown",
      "metadata": {
        "id": "HidyAkfY5fHL"
      },
      "source": [
        "**predict the alphabet**"
      ]
    },
    {
      "cell_type": "code",
      "metadata": {
        "colab": {
          "base_uri": "https://localhost:8080/"
        },
        "id": "Oh_nbGBH5g6H",
        "outputId": "0a3335f5-f66a-4e71-c022-ab7d367b56f8"
      },
      "source": [
        "# define Python user-defined exceptions\r\n",
        "class CustomError(Exception):\r\n",
        "\r\n",
        "  def __init__(self, alphabet):\r\n",
        "    self.alphabet = alphabet\r\n",
        "    self.message = f\"Alphabet {alphabet} predicted is not correct\"\r\n",
        "    super().__init__(self.message)\r\n",
        "\r\n",
        "# predicted alphabet\r\n",
        "alphabet = input()\r\n",
        "# predefined alphabet\r\n",
        "predefined= 'K'\r\n",
        "try:\r\n",
        "  if(not alphabet.isalpha() or len(alphabet)>1 or not(ord(predefined) == ord(alphabet))):\r\n",
        "    raise CustomError(alphabet)\r\n",
        "  else:\r\n",
        "    print(f'Congrats you predicted alphabet {alphabet}')\r\n",
        "except CustomError as e:\r\n",
        "    print(f\"An exception occurred ERROR: '{e.message}'\")\r\n",
        "\r\n",
        "\r\n",
        "\r\n"
      ],
      "execution_count": 37,
      "outputs": [
        {
          "output_type": "stream",
          "text": [
            "J\n",
            "An exception occurred ERROR 'Alphabet J predicted is not correct'\n"
          ],
          "name": "stdout"
        }
      ]
    },
    {
      "cell_type": "code",
      "metadata": {
        "id": "rofCatdD5mDV"
      },
      "source": [
        ""
      ],
      "execution_count": null,
      "outputs": []
    },
    {
      "cell_type": "markdown",
      "metadata": {
        "id": "E-6NLHx9I6rV"
      },
      "source": [
        "**Anagram game**"
      ]
    },
    {
      "cell_type": "code",
      "metadata": {
        "colab": {
          "base_uri": "https://localhost:8080/"
        },
        "id": "5diB7hV2I9Oa",
        "outputId": "bf66f658-7b09-488e-bd57-34f266c2e9c4"
      },
      "source": [
        "originals = [\"listen\", \"silent\",\"tensil\"]\r\n",
        "attempts=5\r\n",
        "print('Let the game begin \\n')\r\n",
        "print(f'You have total of {attempts} attempts to guess anagram of word \"Tnelis\". \\n')\r\n",
        "\r\n",
        "while(attempts>0):\r\n",
        "  attempts -=1\r\n",
        "  print(f'Attempt {5-attempts} Guess the word:')\r\n",
        "  guess= input()\r\n",
        "\r\n",
        "  # check for perfect anagrams\r\n",
        "  # if checkAnagram(guess,original):\r\n",
        "  \r\n",
        "  if (guess in originals):\r\n",
        "    print(\"The strings are anagrams.\\n\")  \r\n",
        "    break\r\n",
        "  else:\r\n",
        "    print(\"The strings aren't anagrams.\\n\")          \r\n",
        "\r\n"
      ],
      "execution_count": 38,
      "outputs": [
        {
          "output_type": "stream",
          "text": [
            "Let the game begin \n",
            "\n",
            "You have total of 5 attempts to guess anagram of word \"Tnelis\". \n",
            "\n",
            "Attempt 1 Guess the word:\n",
            "listen\n",
            "The strings are anagrams.\n",
            "\n"
          ],
          "name": "stdout"
        }
      ]
    },
    {
      "cell_type": "markdown",
      "metadata": {
        "id": "YdeU3EmCNbxp"
      },
      "source": [
        "**ordered dictionary**"
      ]
    },
    {
      "cell_type": "code",
      "metadata": {
        "colab": {
          "base_uri": "https://localhost:8080/"
        },
        "id": "IPSJ904pNfRM",
        "outputId": "2f7a5a6b-4447-4650-ab4d-f3408d6570ef"
      },
      "source": [
        "class OrderDict(dict):\r\n",
        "    \r\n",
        "    def get_dictionary(self):\r\n",
        "        dictionary= {}\r\n",
        "        for item in self._list:\r\n",
        "            key = item[0]\r\n",
        "            value = item[1]\r\n",
        "            dictionary[key] = value\r\n",
        "        return dictionary\r\n",
        "\r\n",
        "    def __init__(self, *args):\r\n",
        "        self._list = []\r\n",
        "        if(not len(args)==0):\r\n",
        "            if(not type(args[0]) == type(dict())):\r\n",
        "                raise TypeError('invalid arguments')\r\n",
        "            for item in args[0].items():\r\n",
        "                self._list.append((item[0], item[1]))\r\n",
        "\r\n",
        "    def add(self, key, value):\r\n",
        "        print(f'adding ({key},{value})')\r\n",
        "        if (key in [item[0] for item in self._list]):\r\n",
        "            print(f'ERROR: Key \"{key}\" already exist in dictionary.')\r\n",
        "        else:\r\n",
        "            self._list.append((key,value))\r\n",
        "\r\n",
        "    def delete(self, key):\r\n",
        "        print(f'removing element with key:{key}')\r\n",
        "        \r\n",
        "        index =-1\r\n",
        "        for i, dic in enumerate(self._list):\r\n",
        "            if dic[0] == key:\r\n",
        "                index = i\r\n",
        "        try:\r\n",
        "            if(not index == -1):\r\n",
        "                del self._list[index]\r\n",
        "        except ValueError:\r\n",
        "            pass  # do nothing!\r\n",
        "        \r\n",
        "\r\n",
        "    def update(self, key, value):\r\n",
        "        print(f'updating key: {key} with value:{value}')\r\n",
        "\r\n",
        "        index =-1\r\n",
        "        for i, dic in enumerate(self._list):\r\n",
        "            if dic[0] == key:\r\n",
        "                index = i\r\n",
        "        if(not index == -1):\r\n",
        "            self._list[i] = (key,value)\r\n",
        "\r\n",
        "    def __getitem__(self,key):\r\n",
        "        \r\n",
        "       for dic in enumerate(self._list):\r\n",
        "            if (dic[1])[0] == key: \r\n",
        "                return {(dic[1])[0],(dic[1])[1]}\r\n",
        "\r\n",
        "    def __setitem__(self,key,value):\r\n",
        "        found= False\r\n",
        "        for dic in enumerate(self._list):\r\n",
        "            if (dic[1])[0] == key:\r\n",
        "                found= True\r\n",
        "        if(found):\r\n",
        "            self.update(key,value)\r\n",
        "        else:\r\n",
        "            self.add(key,value)\r\n",
        "\r\n",
        "    def __iter__(self):\r\n",
        "        for dic in enumerate(self._list):\r\n",
        "            yield iter(dic) \r\n",
        "        \r\n",
        "    def sort(self):\r\n",
        "        self._list.sort(key=lambda x:x[1])\r\n",
        "    \r\n",
        "dic = {'key1':1,'key2':21}\r\n",
        "d = OrderDict(dic)\r\n",
        "\r\n",
        "print(d.get_dictionary())\r\n",
        "d.add('key2',3)\r\n",
        "print(d.get_dictionary())\r\n",
        "d.delete('key2')\r\n",
        "print(d.get_dictionary())\r\n",
        "d.update('key2',2122)\r\n",
        "print(d.get_dictionary())\r\n",
        "print(d.get_dictionary())\r\n",
        "print(d['key2'])\r\n",
        "print(d.get_dictionary())\r\n",
        "d['key2']=10000\r\n",
        "d['key3']=11\r\n",
        "d.sort()\r\n",
        "print(d.get_dictionary())\r\n"
      ],
      "execution_count": 39,
      "outputs": [
        {
          "output_type": "stream",
          "text": [
            "{'key1': 1, 'key2': 21}\n",
            "adding (key2,3)\n",
            "ERROR: Key \"key2\" already exist in dictionary.\n",
            "{'key1': 1, 'key2': 21}\n",
            "removing element with key:key2\n",
            "{'key1': 1}\n",
            "updating key: key2 with value:2122\n",
            "{'key1': 1}\n",
            "{'key1': 1}\n",
            "None\n",
            "{'key1': 1}\n",
            "adding (key2,10000)\n",
            "adding (key3,11)\n",
            "{'key1': 1, 'key3': 11, 'key2': 10000}\n"
          ],
          "name": "stdout"
        }
      ]
    },
    {
      "cell_type": "markdown",
      "metadata": {
        "id": "0rjxSRmOluXR"
      },
      "source": [
        "**Paranthesis check**"
      ]
    },
    {
      "cell_type": "code",
      "metadata": {
        "colab": {
          "base_uri": "https://localhost:8080/"
        },
        "id": "nHn-6G0MlxwB",
        "outputId": "65d12350-5203-4bcb-9ce3-48b3197328b8"
      },
      "source": [
        "# Function to test balanced brackets\r\n",
        "def BalancedBrackets(Str):\r\n",
        "    # stack for storing opening brackets\r\n",
        "    stack = []\r\n",
        "\r\n",
        "    # Loop for checking string \r\n",
        "    for char in Str:\r\n",
        "        # if its opening bracket, so push it in the \r\n",
        "        # stack\r\n",
        "        if char == '{' or char == '(' or char == '[':\r\n",
        "            stack.append(char) # push\r\n",
        "        # else if its closing bracket then\r\n",
        "        # check if the stack is empty then return false or\r\n",
        "        # pop the top most element from the stack\r\n",
        "        # and compare it\r\n",
        "        elif char == '}' or char == ')' or char == ']':\r\n",
        "            if len(stack) == 0:\r\n",
        "                return False\r\n",
        "            top_element = stack.pop() # pop\r\n",
        "            # function to compare whether two \r\n",
        "            # brackets are corresponding to each other\r\n",
        "            if not Compare(top_element, char):\r\n",
        "                return False\r\n",
        "    # lastly, check that stack is empty or not  \r\n",
        "    if len(stack) != 0:\r\n",
        "        return False\r\n",
        "              \r\n",
        "    return True\r\n",
        "\r\n",
        "# Function to check two corresponding brackets\r\n",
        "# equal or not. \r\n",
        "def Compare(opening, closing):\r\n",
        "    if opening == '(' and closing == ')':\r\n",
        "        return True\r\n",
        "    if opening == '[' and closing == ']':\r\n",
        "        return True\r\n",
        "    if opening == '{' and closing == '}':\r\n",
        "        return True  \r\n",
        "    return False\r\n",
        "\r\n",
        "string = \"{[]<{()}>}\"\r\n",
        "#string = input()\r\n",
        "\r\n",
        "if(BalancedBrackets(string)):\r\n",
        "    print(f\"{string} is balanced\")      \r\n",
        "else:\r\n",
        "    print(f\"{string} is Unbalanced\")  \r\n"
      ],
      "execution_count": 42,
      "outputs": [
        {
          "output_type": "stream",
          "text": [
            "{[]<{()}>} is balanced\n"
          ],
          "name": "stdout"
        }
      ]
    },
    {
      "cell_type": "markdown",
      "metadata": {
        "id": "n3_HW0SImDRA"
      },
      "source": [
        "**regex match**"
      ]
    },
    {
      "cell_type": "code",
      "metadata": {
        "colab": {
          "base_uri": "https://localhost:8080/"
        },
        "id": "NravX9ZemBri",
        "outputId": "fa1e7d37-5a40-4e01-8122-b68fb2aa612f"
      },
      "source": [
        "import re\r\n",
        "pattern = r\"\"\"\\d+\\.\\d*\"\"\"\r\n",
        "string = input()\r\n",
        "match = re.match(pattern,string) \r\n",
        "if(match is not None):\r\n",
        "  print(f'Input String {string} matched regex')\r\n",
        "else:\r\n",
        "    print(f'Input String:  {string} do not matched regex')\r\n"
      ],
      "execution_count": 41,
      "outputs": [
        {
          "output_type": "stream",
          "text": [
            "1.1\n",
            "Input String 1.1 matched regex\n"
          ],
          "name": "stdout"
        }
      ]
    }
  ]
}